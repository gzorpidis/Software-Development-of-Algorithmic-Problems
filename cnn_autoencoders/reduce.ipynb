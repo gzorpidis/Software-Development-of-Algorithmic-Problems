{
  "cells": [
    {
      "cell_type": "code",
      "execution_count": 1,
      "metadata": {
        "colab": {
          "base_uri": "https://localhost:8080/"
        },
        "id": "niCNZZ0NDNvA",
        "outputId": "3952cf10-f58e-4e56-c034-dff047461f80"
      },
      "outputs": [
        {
          "output_type": "stream",
          "name": "stdout",
          "text": [
            "Mounted at /content/drive\n"
          ]
        }
      ],
      "source": [
        "from google.colab import drive\n",
        "drive.mount('/content/drive')"
      ]
    },
    {
      "cell_type": "code",
      "source": [
        "init_dataset_path = 'drive/MyDrive/MNIST/' + 'train-images.idx3-ubyte'\n",
        "init_queryset_path = 'drive/MyDrive/MNIST/' + 't10k-images-idx3-ubyte'\n",
        "output_dataset_path = 'drive/MyDrive/MNIST/' + 'output_dataset_file.bin'\n",
        "output_queryset_path = 'drive/MyDrive/MNIST/' + 'output_queryset_file.bin'"
      ],
      "metadata": {
        "id": "-hkhawYrRlw5"
      },
      "execution_count": 2,
      "outputs": []
    },
    {
      "cell_type": "code",
      "execution_count": 3,
      "metadata": {
        "colab": {
          "base_uri": "https://localhost:8080/"
        },
        "id": "ml1s-aQg0GO0",
        "outputId": "b7df21c9-2885-4c89-daa7-522389739a69"
      },
      "outputs": [
        {
          "output_type": "stream",
          "name": "stdout",
          "text": [
            "Current Working Directory: /content\n",
            "(60000, 28, 28)\n",
            "(10000, 28, 28)\n",
            "(48000, 28, 28, 1)\n",
            "(12000, 28, 28, 1)\n",
            "(10000, 28, 28, 1)\n"
          ]
        }
      ],
      "source": [
        "import struct\n",
        "import numpy as np\n",
        "from sklearn.model_selection import train_test_split\n",
        "\n",
        "import os\n",
        "\n",
        "current_path = os.getcwd()\n",
        "print(\"Current Working Directory:\", current_path)\n",
        "\n",
        "def read_mnist_images(filename):\n",
        "    with open(filename, 'rb') as f:\n",
        "        magic, num_images, rows, cols = struct.unpack('>IIII', f.read(16))\n",
        "        image_data = np.frombuffer(f.read(), dtype=np.uint8).reshape(num_images, rows, cols)\n",
        "    return image_data\n",
        "\n",
        "def read_mnist_labels(filename):\n",
        "    with open(filename, 'rb') as f:\n",
        "        magic, num_labels = struct.unpack('>II', f.read(8))\n",
        "        label_data = np.frombuffer(f.read(), dtype=np.uint8)\n",
        "    return label_data\n",
        "\n",
        "# Replace 'path_to_mnist_files' with the path to your MNIST dataset files\n",
        "path_to_mnist_files = 'drive/MyDrive/MNIST/'\n",
        "\n",
        "# Read training set\n",
        "train_images = read_mnist_images(init_dataset_path)\n",
        "\n",
        "# Read test set\n",
        "test_images = read_mnist_images(init_queryset_path)\n",
        "\n",
        "# Now you have the MNIST dataset loaded into NumPy arrays: train_images, test_images\n",
        "print(train_images.shape)\n",
        "print(test_images.shape)\n",
        "\n",
        "x_train, x_valid = train_test_split(train_images, test_size=0.2, random_state=42)\n",
        "\n",
        "x_train = x_train.astype('float32') / 255.\n",
        "x_valid = x_valid.astype('float32') / 255.\n",
        "\n",
        "x_train = np.reshape(x_train, (len(x_train), 28, 28, 1))\n",
        "x_valid = np.reshape(x_valid, (len(x_valid), 28, 28, 1))\n",
        "\n",
        "\n",
        "x_test = test_images.astype('float32') / 255.\n",
        "x_test = np.reshape(x_test, (len(x_test), 28, 28, 1))\n",
        "\n",
        "print(x_train.shape)\n",
        "print(x_valid.shape)\n",
        "print(x_test.shape)\n",
        "\n"
      ]
    },
    {
      "cell_type": "markdown",
      "source": [
        "# Model training"
      ],
      "metadata": {
        "id": "ljM-L2eAOrpL"
      }
    },
    {
      "cell_type": "code",
      "source": [
        "from logging import basicConfig\n",
        "import keras\n",
        "from keras import layers\n",
        "from matplotlib import pyplot as plt\n",
        "import numpy as np\n",
        "import gzip\n",
        "%matplotlib inline\n",
        "from keras.layers import Input,Conv2D,MaxPooling2D,UpSampling2D\n",
        "from keras.models import Model\n",
        "from keras.optimizers import RMSprop\n",
        "\n",
        "# This is the size of our encoded representations\n",
        "import keras\n",
        "from keras import layers\n",
        "from matplotlib import pyplot as plt\n",
        "import numpy as np\n",
        "%matplotlib inline\n",
        "from keras.models import Model\n",
        "from tensorflow.keras import backend as K\n",
        "\n",
        "# This is the size of our encoded representations\n",
        "original_dim = 28 * 28\n",
        "latent_dim = 30\n",
        "\n",
        "batch_size = 128\n",
        "epoch = 20\n",
        "\n",
        "print(f'Compression factor: {original_dim / latent_dim}')\n",
        "\n",
        "input_img = keras.Input(shape=(28, 28, 1))\n",
        "\n",
        "\n",
        "x = layers.Conv2D(32, (3, 3), activation='relu', padding='same')(input_img)\n",
        "x_1 = layers.MaxPooling2D((2, 2), padding='same')(x)\n",
        "x_2 = layers.Conv2D(64, (3, 3), activation='relu', padding='same')(x_1)\n",
        "x_3 = layers.MaxPooling2D((2, 2), padding='same')(x_2)\n",
        "encoded = layers.Conv2D(128, (3, 3), activation='relu', padding='same')(x_3)\n",
        "print(encoded.shape)\n",
        "\n",
        "volumeSize = K.int_shape(encoded)\n",
        "# Downsampling to latent dimension\n",
        "flattened_encoded = layers.Flatten()(encoded)\n",
        "dense_layer = layers.Dense(latent_dim, activation='relu')(flattened_encoded)\n",
        "encoder_model = Model(input_img, dense_layer)\n",
        "\n",
        "# HERE THE ENCODER ENDS, output in latent dimension\n",
        "\n",
        "latent_img_dim = keras.Input(shape=(latent_dim,))\n",
        "# HERE DECODER STARTS, WITH THE RECONSTRUCTION\n",
        "print(np.prod(volumeSize[1:]))\n",
        "y = layers.Dense(np.prod(volumeSize[1:]))(latent_img_dim)\n",
        "y_1 = layers.Reshape((volumeSize[1],volumeSize[2],volumeSize[3]))(y)\n",
        "print(y.shape)\n",
        "y_2 = layers.Conv2D(128, (3, 3), activation='relu', padding='same')(y_1)\n",
        "y_3 = layers.UpSampling2D((2, 2))(y_2)\n",
        "y_4 = layers.Conv2D(64, (3, 3), activation='relu', padding='same')(y_3)\n",
        "y_5 = layers.UpSampling2D((2, 2))(y_4)\n",
        "decoded = layers.Conv2D(1, (3, 3), activation='sigmoid', padding='same')(y_5)\n",
        "\n",
        "decoder_model = Model(latent_img_dim, decoded)\n",
        "\n",
        "output = decoder_model(encoder_model(input_img))\n",
        "basic = Model(input_img, output)\n",
        "basic.compile(optimizer='adam', loss='binary_crossentropy')\n",
        "\n",
        "autoencoder_train = basic.fit(x_train, x_train, batch_size=batch_size, epochs=epoch,\n",
        "                                     verbose=1, validation_data=(x_valid, x_valid))"
      ],
      "metadata": {
        "colab": {
          "base_uri": "https://localhost:8080/"
        },
        "id": "Qs2Zdh3IOkg6",
        "outputId": "9e73ca05-ef97-45d1-cbf7-f88048fd7b1d"
      },
      "execution_count": null,
      "outputs": [
        {
          "output_type": "stream",
          "name": "stdout",
          "text": [
            "Compression factor: 26.133333333333333\n",
            "(None, 7, 7, 128)\n",
            "6272\n",
            "(None, 6272)\n",
            "Epoch 1/20\n",
            "375/375 [==============================] - 362s 951ms/step - loss: 0.1797 - val_loss: 0.1252\n",
            "Epoch 2/20\n",
            "375/375 [==============================] - 364s 971ms/step - loss: 0.1152 - val_loss: 0.1094\n",
            "Epoch 3/20\n",
            "375/375 [==============================] - 354s 944ms/step - loss: 0.1057 - val_loss: 0.1037\n",
            "Epoch 4/20\n",
            "375/375 [==============================] - 366s 976ms/step - loss: 0.1015 - val_loss: 0.1007\n",
            "Epoch 5/20\n",
            "375/375 [==============================] - 342s 912ms/step - loss: 0.0988 - val_loss: 0.0984\n",
            "Epoch 6/20\n",
            "375/375 [==============================] - 347s 925ms/step - loss: 0.0971 - val_loss: 0.0971\n",
            "Epoch 7/20\n",
            "375/375 [==============================] - 343s 916ms/step - loss: 0.0958 - val_loss: 0.0962\n",
            "Epoch 8/20\n",
            "375/375 [==============================] - 344s 917ms/step - loss: 0.0948 - val_loss: 0.0951\n",
            "Epoch 9/20\n",
            "375/375 [==============================] - 351s 938ms/step - loss: 0.0939 - val_loss: 0.0943\n",
            "Epoch 10/20\n",
            "375/375 [==============================] - 355s 946ms/step - loss: 0.0932 - val_loss: 0.0945\n",
            "Epoch 11/20\n",
            "375/375 [==============================] - 346s 923ms/step - loss: 0.0927 - val_loss: 0.0943\n",
            "Epoch 12/20\n",
            "375/375 [==============================] - 357s 951ms/step - loss: 0.0921 - val_loss: 0.0934\n",
            "Epoch 13/20\n",
            "375/375 [==============================] - 344s 919ms/step - loss: 0.0917 - val_loss: 0.0926\n",
            "Epoch 14/20\n",
            "375/375 [==============================] - 350s 935ms/step - loss: 0.0912 - val_loss: 0.0928\n",
            "Epoch 15/20\n",
            "375/375 [==============================] - 354s 943ms/step - loss: 0.0908 - val_loss: 0.0923\n",
            "Epoch 16/20\n",
            "375/375 [==============================] - 365s 973ms/step - loss: 0.0907 - val_loss: 0.0919\n",
            "Epoch 17/20\n",
            "375/375 [==============================] - 366s 975ms/step - loss: 0.0903 - val_loss: 0.0916\n",
            "Epoch 18/20\n",
            "375/375 [==============================] - 349s 932ms/step - loss: 0.0900 - val_loss: 0.0916\n",
            "Epoch 19/20\n",
            "375/375 [==============================] - 346s 924ms/step - loss: 0.0897 - val_loss: 0.0915\n",
            "Epoch 20/20\n",
            "375/375 [==============================] - 346s 922ms/step - loss: 0.0895 - val_loss: 0.0910\n"
          ]
        }
      ]
    },
    {
      "cell_type": "code",
      "source": [
        "# Save model for later use if needed, save time training it...\n",
        "from keras.models import load_model\n",
        "path_to_mnist_models = 'drive/MyDrive/MNIST/models/'\n",
        "basic.save(path_to_mnist_models + 'autoencoder_model_corr_30.keras')\n",
        "encoder_model.save(path_to_mnist_models + 'encoder_model_corr_30.keras')\n",
        "decoder_model.save(path_to_mnist_models + 'decoder_model_corr_30.keras')"
      ],
      "metadata": {
        "id": "M9lfQ0NjP9zH"
      },
      "execution_count": null,
      "outputs": []
    },
    {
      "cell_type": "markdown",
      "source": [
        "# Visualization"
      ],
      "metadata": {
        "id": "kTWOwyIUY8AR"
      }
    },
    {
      "cell_type": "code",
      "source": [
        "decoded_imgs = basic.predict(x_test)\n",
        "\n",
        "decoded_images = (255 * decoded_imgs).astype(np.uint8)\n",
        "\n",
        "loss = autoencoder_train.history['loss']\n",
        "val_loss = autoencoder_train.history['val_loss']\n",
        "epochs = range(epoch)\n",
        "plt.figure()\n",
        "plt.plot(epochs, loss, 'bo', label='Training loss')\n",
        "plt.plot(epochs, val_loss, 'b', label='Validation loss')\n",
        "plt.title('Training and validation loss')\n",
        "plt.legend()\n",
        "plt.show()\n",
        "\n",
        "\n",
        "print(decoded_imgs.shape)\n",
        "n = 10\n",
        "plt.figure(figsize=(20, 4))\n",
        "for i in range(1, n + 1):\n",
        "    # Display original\n",
        "    ax = plt.subplot(2, n, i)\n",
        "    plt.imshow(x_test[i].reshape(28, 28))\n",
        "    plt.gray()\n",
        "    ax.get_xaxis().set_visible(False)\n",
        "    ax.get_yaxis().set_visible(False)\n",
        "\n",
        "    # Display reconstruction\n",
        "    ax = plt.subplot(2, n, i + n)\n",
        "    plt.imshow(decoded_images[i].reshape(28, 28))\n",
        "    # plt.gray()\n",
        "    ax.get_xaxis().set_visible(False)\n",
        "    ax.get_yaxis().set_visible(False)\n",
        "plt.show()"
      ],
      "metadata": {
        "colab": {
          "base_uri": "https://localhost:8080/",
          "height": 711
        },
        "id": "CLXcvDszZAgM",
        "outputId": "92ffde15-dc46-420c-f86c-86c53f8940e7"
      },
      "execution_count": null,
      "outputs": [
        {
          "output_type": "stream",
          "name": "stdout",
          "text": [
            "313/313 [==============================] - 21s 67ms/step\n"
          ]
        },
        {
          "output_type": "display_data",
          "data": {
            "text/plain": [
              "<Figure size 640x480 with 1 Axes>"
            ],
            "image/png": "[encoded data removed]"
          },
          "metadata": {}
        },
        {
          "output_type": "stream",
          "name": "stdout",
          "text": [
            "(10000, 28, 28, 1)\n"
          ]
        },
        {
          "output_type": "display_data",
          "data": {
            "text/plain": [
              "<Figure size 2000x400 with 20 Axes>"
            ],
            "image/png": "[encoded data removed]"
          },
          "metadata": {}
        }
      ]
    },
    {
      "cell_type": "markdown",
      "source": [
        "# Predictions"
      ],
      "metadata": {
        "id": "874vO5ONXC-L"
      }
    },
    {
      "cell_type": "markdown",
      "source": [
        "Load the models if saved in some file..."
      ],
      "metadata": {
        "id": "5gfKNm_KxBCK"
      }
    },
    {
      "cell_type": "code",
      "source": [
        "from tensorflow.keras.models import load_model\n",
        "\n",
        "# Specify the path to your saved Keras model file\n",
        "path_to_mnist_models = 'drive/MyDrive/MNIST/models/'\n",
        "basic = load_model(path_to_mnist_models + 'autoencoder_model_corr_30.keras')\n",
        "encoder_model = load_model(path_to_mnist_models + 'encoder_model_corr_30.keras')\n",
        "decoder_model = load_model(path_to_mnist_models + 'decoder_model_corr_30.keras')\n",
        "\n",
        "# Now, you can use 'basic,encoder_model,decoder_model' to make predictions or perform other tasks.\n"
      ],
      "metadata": {
        "id": "Pxu8l7kVxAaB"
      },
      "execution_count": 7,
      "outputs": []
    },
    {
      "cell_type": "code",
      "execution_count": 8,
      "metadata": {
        "colab": {
          "base_uri": "https://localhost:8080/"
        },
        "id": "IuL6NvihT5cO",
        "outputId": "5fc13dc6-f278-4724-8912-64fba824e3e4"
      },
      "outputs": [
        {
          "output_type": "stream",
          "name": "stdout",
          "text": [
            "1500/1500 [==============================] - 34s 23ms/step\n",
            "375/375 [==============================] - 6s 16ms/step\n",
            "313/313 [==============================] - 5s 16ms/step\n",
            "(10000, 30)\n",
            "(48000, 30)\n",
            "(12000, 30)\n",
            "(60000, 30)\n"
          ]
        }
      ],
      "source": [
        "encoded_images = encoder_model.predict(x_train)\n",
        "valid_images = encoder_model.predict(x_valid)\n",
        "\n",
        "query_images = encoder_model.predict(test_images)\n",
        "query_images = (query_images * 255).astype(np.uint8)\n",
        "\n",
        "print(query_images.shape)\n",
        "print(encoded_images.shape)\n",
        "print(valid_images.shape)\n",
        "\n",
        "# Concatenate the encoded representations\n",
        "concatenated_encoded_images = np.concatenate([encoded_images, valid_images], axis=0)\n",
        "concatenated_encoded_images = (concatenated_encoded_images * 255).astype(np.uint8)\n",
        "\n",
        "\n",
        "print(concatenated_encoded_images.shape)\n",
        "\n"
      ]
    },
    {
      "cell_type": "markdown",
      "source": [
        "# Create output file"
      ],
      "metadata": {
        "id": "oYigQGpmXmSm"
      }
    },
    {
      "cell_type": "code",
      "execution_count": 14,
      "metadata": {
        "colab": {
          "base_uri": "https://localhost:8080/"
        },
        "id": "lR_dF4PJsca5",
        "outputId": "5f69e716-aa84-4797-b158-6214843c8ab2"
      },
      "outputs": [
        {
          "output_type": "stream",
          "name": "stdout",
          "text": [
            "10000 30\n",
            "[  0 123   0 203  19   0  88   0  63   0   0   0 110   0   0 224  11   0\n",
            " 245  44   0   0   0   0   0   0 133   0   0   0]\n",
            "[  0 123   0 203  19   0  88   0  63   0   0   0 110   0   0 224  11   0\n",
            " 245  44   0   0   0   0   0   0 133   0   0   0]\n",
            "[  0 123   0 203  19   0  88   0  63   0   0   0 110   0   0 224  11   0\n",
            " 245  44   0   0   0   0   0   0 133   0   0   0]\n",
            "(10000, 1, 30)\n",
            "\n",
            "60000 30\n",
            "[  0 183   0  12 192   0  22   0 176   0   0   0 244   0   0  65  61   0\n",
            " 209 245   0   0   0   0   0   0 107   0   0   0]\n",
            "[  0 183   0  12 192   0  22   0 176   0   0   0 244   0   0  65  61   0\n",
            " 209 245   0   0   0   0   0   0 107   0   0   0]\n",
            "[  0 183   0  12 192   0  22   0 176   0   0   0 244   0   0  65  61   0\n",
            " 209 245   0   0   0   0   0   0 107   0   0   0]\n",
            "(60000, 1, 30)\n"
          ]
        }
      ],
      "source": [
        "import numpy as np\n",
        "import struct\n",
        "\n",
        "# output_queryset_path\n",
        "\n",
        "# Get the shape of the dataset\n",
        "# print(concatenated_encoded_images.shape)\n",
        "num_images, num_columns = query_images.shape\n",
        "num_rows = 1\n",
        "print(num_images, num_columns)\n",
        "\n",
        "\n",
        "def output_binary_file(path, data, num_images, num_rows, num_columns):\n",
        "    # Write the binary dataset file\n",
        "    with open(path, 'wb') as f:\n",
        "        # Write the magic number (32) as a 32-bit integer\n",
        "        f.write(struct.pack('>I', 32))\n",
        "\n",
        "        # Write the number of images, rows, and columns as 32-bit integers\n",
        "        f.write(struct.pack('>III', num_images, num_rows, num_columns))\n",
        "        it = 0\n",
        "        # Iterate through each image in the dataset\n",
        "        for image in data:\n",
        "\n",
        "            # Flatten the image and write each pixel as a single byte\n",
        "            f.write(image.flatten().tobytes())\n",
        "            if (it == 0):\n",
        "                print(image)\n",
        "            it += 1\n",
        "            # print(image.flatten().tobytes())\n",
        "    read_images = np.empty((num_images, num_columns), dtype=np.uint8)\n",
        "    with open(path, 'rb') as f:\n",
        "        # Read the magic number (32) as a 32-bit integer\n",
        "        magic_number = struct.unpack('>I', f.read(4))[0]\n",
        "\n",
        "        # Read the number of images, rows, and columns as 32-bit integers\n",
        "        num_images, num_rows, num_columns = struct.unpack('>III', f.read(12))\n",
        "\n",
        "        # Iterate through each image in the dataset\n",
        "        for i in range(len(data)):\n",
        "            # Read each pixel as a single byte and reshape to the original image shape\n",
        "            image_data = struct.unpack('B' * num_columns, f.read(num_columns))\n",
        "            read_images[i] = np.array(image_data, dtype=np.uint8)\n",
        "            if (i == 0):\n",
        "                print(read_images[i])\n",
        "                flattened_numbers = np.frombuffer(read_images[i], dtype=np.uint8)\n",
        "                print(flattened_numbers)\n",
        "\n",
        "    # Reshape the read data to the original shape of the images\n",
        "    read_images = read_images.reshape((num_images, num_rows, num_columns))\n",
        "    print(read_images.shape)\n",
        "\n",
        "output_binary_file(output_queryset_path, query_images, num_images, num_rows, num_columns)\n",
        "\n",
        "print()\n",
        "\n",
        "num_images, num_columns = concatenated_encoded_images.shape\n",
        "num_rows = 1\n",
        "print(num_images, num_columns)\n",
        "\n",
        "output_binary_file(output_dataset_path, concatenated_encoded_images, num_images, num_rows, num_columns)"
      ]
    }
  ],
  "metadata": {
    "colab": {
      "provenance": []
    },
    "kernelspec": {
      "display_name": "Python 3",
      "name": "python3"
    },
    "language_info": {
      "name": "python"
    }
  },
  "nbformat": 4,
  "nbformat_minor": 0
}